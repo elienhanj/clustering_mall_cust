{
  "nbformat": 4,
  "nbformat_minor": 0,
  "metadata": {
    "colab": {
      "name": "mall_cluster_elien.ipynb",
      "provenance": [],
      "collapsed_sections": [],
      "toc_visible": true,
      "authorship_tag": "ABX9TyP5xHupGvHEQk8ZX72GX3U+",
      "include_colab_link": true
    },
    "kernelspec": {
      "name": "python3",
      "display_name": "Python 3"
    }
  },
  "cells": [
    {
      "cell_type": "markdown",
      "metadata": {
        "id": "view-in-github",
        "colab_type": "text"
      },
      "source": [
        "<a href=\"https://colab.research.google.com/github/elienhanj/clustering_mall_cust/blob/main/mall_cluster_elien.ipynb\" target=\"_parent\"><img src=\"https://colab.research.google.com/assets/colab-badge.svg\" alt=\"Open In Colab\"/></a>"
      ]
    },
    {
      "cell_type": "markdown",
      "metadata": {
        "id": "4pdtlvXsHsAN"
      },
      "source": [
        "# **Clustering Data Mall Customer Segmentation Menggunakan Algoritma K-Means dan Hierarchical**"
      ]
    },
    {
      "cell_type": "markdown",
      "metadata": {
        "id": "VKwvoGGcIG6_"
      },
      "source": [
        "Elien Hanjani Pramitha - DS0108 - Telkom DTI 2020"
      ]
    },
    {
      "cell_type": "markdown",
      "metadata": {
        "id": "lSlAqp0UACcR"
      },
      "source": [
        "## **IMPORT LIBRARY**"
      ]
    },
    {
      "cell_type": "code",
      "metadata": {
        "id": "qACypHz1xJqJ"
      },
      "source": [
        "# Import Libraries\n",
        "import numpy as np\n",
        "import pandas as pd\n",
        "import matplotlib.pyplot as plt\n",
        "import seaborn as sns\n",
        "# Importing Standardscalar Module \n",
        "from sklearn.preprocessing import StandardScaler \n",
        "# for Elbow Method\n",
        "from sklearn.cluster import KMeans\n",
        "# for Silhoutte Method\n",
        "from sklearn.metrics import silhouette_score\n",
        "from sklearn.cluster import KMeans\n",
        "# for Modeling and Visualizing Clusters by Dendogram\n",
        "import scipy.cluster.hierarchy as sch\n",
        "# for Apply the Hierarchical Clustering Model to the Dataset\n",
        "from sklearn.cluster import AgglomerativeClustering"
      ],
      "execution_count": null,
      "outputs": []
    },
    {
      "cell_type": "markdown",
      "metadata": {
        "id": "NiATUThHAKSk"
      },
      "source": [
        "## **IMPORT RAW DATASET**"
      ]
    },
    {
      "cell_type": "markdown",
      "metadata": {
        "id": "v_bRR9ify8RY"
      },
      "source": [
        "Data yang digunakan adalah data dari https://www.kaggle.com/vjchoudhary7/customer-segmentation-tutorial-in-python ."
      ]
    },
    {
      "cell_type": "markdown",
      "metadata": {
        "id": "zvu20WX8z3G9"
      },
      "source": [
        "Data ini merupakan Mall Customer Segmentation Data, dimana format filenya adalah .csv, terdapat 5 kolom yaitu : Customer ID, Gender, Age, Annual Income, Spending Score."
      ]
    },
    {
      "cell_type": "code",
      "metadata": {
        "id": "Xv20Y-dYx7TM",
        "outputId": "a93b5980-dd52-489e-a90c-9279cba1a4a3",
        "colab": {
          "base_uri": "https://localhost:8080/",
          "height": 406
        }
      },
      "source": [
        "# Import Dataset\n",
        "df_cust = pd.read_csv('https://raw.githubusercontent.com/elienhanj/clustering_mall_cust/main/Mall_Customers.csv')\n",
        "df_cust"
      ],
      "execution_count": null,
      "outputs": [
        {
          "output_type": "execute_result",
          "data": {
            "text/html": [
              "<div>\n",
              "<style scoped>\n",
              "    .dataframe tbody tr th:only-of-type {\n",
              "        vertical-align: middle;\n",
              "    }\n",
              "\n",
              "    .dataframe tbody tr th {\n",
              "        vertical-align: top;\n",
              "    }\n",
              "\n",
              "    .dataframe thead th {\n",
              "        text-align: right;\n",
              "    }\n",
              "</style>\n",
              "<table border=\"1\" class=\"dataframe\">\n",
              "  <thead>\n",
              "    <tr style=\"text-align: right;\">\n",
              "      <th></th>\n",
              "      <th>CustomerID</th>\n",
              "      <th>Gender</th>\n",
              "      <th>Age</th>\n",
              "      <th>Annual Income (k$)</th>\n",
              "      <th>Spending Score (1-100)</th>\n",
              "    </tr>\n",
              "  </thead>\n",
              "  <tbody>\n",
              "    <tr>\n",
              "      <th>0</th>\n",
              "      <td>1</td>\n",
              "      <td>Male</td>\n",
              "      <td>19</td>\n",
              "      <td>15</td>\n",
              "      <td>39</td>\n",
              "    </tr>\n",
              "    <tr>\n",
              "      <th>1</th>\n",
              "      <td>2</td>\n",
              "      <td>Male</td>\n",
              "      <td>21</td>\n",
              "      <td>15</td>\n",
              "      <td>81</td>\n",
              "    </tr>\n",
              "    <tr>\n",
              "      <th>2</th>\n",
              "      <td>3</td>\n",
              "      <td>Female</td>\n",
              "      <td>20</td>\n",
              "      <td>16</td>\n",
              "      <td>6</td>\n",
              "    </tr>\n",
              "    <tr>\n",
              "      <th>3</th>\n",
              "      <td>4</td>\n",
              "      <td>Female</td>\n",
              "      <td>23</td>\n",
              "      <td>16</td>\n",
              "      <td>77</td>\n",
              "    </tr>\n",
              "    <tr>\n",
              "      <th>4</th>\n",
              "      <td>5</td>\n",
              "      <td>Female</td>\n",
              "      <td>31</td>\n",
              "      <td>17</td>\n",
              "      <td>40</td>\n",
              "    </tr>\n",
              "    <tr>\n",
              "      <th>...</th>\n",
              "      <td>...</td>\n",
              "      <td>...</td>\n",
              "      <td>...</td>\n",
              "      <td>...</td>\n",
              "      <td>...</td>\n",
              "    </tr>\n",
              "    <tr>\n",
              "      <th>195</th>\n",
              "      <td>196</td>\n",
              "      <td>Female</td>\n",
              "      <td>35</td>\n",
              "      <td>120</td>\n",
              "      <td>79</td>\n",
              "    </tr>\n",
              "    <tr>\n",
              "      <th>196</th>\n",
              "      <td>197</td>\n",
              "      <td>Female</td>\n",
              "      <td>45</td>\n",
              "      <td>126</td>\n",
              "      <td>28</td>\n",
              "    </tr>\n",
              "    <tr>\n",
              "      <th>197</th>\n",
              "      <td>198</td>\n",
              "      <td>Male</td>\n",
              "      <td>32</td>\n",
              "      <td>126</td>\n",
              "      <td>74</td>\n",
              "    </tr>\n",
              "    <tr>\n",
              "      <th>198</th>\n",
              "      <td>199</td>\n",
              "      <td>Male</td>\n",
              "      <td>32</td>\n",
              "      <td>137</td>\n",
              "      <td>18</td>\n",
              "    </tr>\n",
              "    <tr>\n",
              "      <th>199</th>\n",
              "      <td>200</td>\n",
              "      <td>Male</td>\n",
              "      <td>30</td>\n",
              "      <td>137</td>\n",
              "      <td>83</td>\n",
              "    </tr>\n",
              "  </tbody>\n",
              "</table>\n",
              "<p>200 rows × 5 columns</p>\n",
              "</div>"
            ],
            "text/plain": [
              "     CustomerID  Gender  Age  Annual Income (k$)  Spending Score (1-100)\n",
              "0             1    Male   19                  15                      39\n",
              "1             2    Male   21                  15                      81\n",
              "2             3  Female   20                  16                       6\n",
              "3             4  Female   23                  16                      77\n",
              "4             5  Female   31                  17                      40\n",
              "..          ...     ...  ...                 ...                     ...\n",
              "195         196  Female   35                 120                      79\n",
              "196         197  Female   45                 126                      28\n",
              "197         198    Male   32                 126                      74\n",
              "198         199    Male   32                 137                      18\n",
              "199         200    Male   30                 137                      83\n",
              "\n",
              "[200 rows x 5 columns]"
            ]
          },
          "metadata": {
            "tags": []
          },
          "execution_count": 26
        }
      ]
    },
    {
      "cell_type": "markdown",
      "metadata": {
        "id": "z28Eov3A0MbV"
      },
      "source": [
        "Sebelum melakukan pemrosesan data, cek data apakah ada data yang kosong? untuk dataset ini berjumlah 200 data dan tidak ada yang kosong."
      ]
    },
    {
      "cell_type": "code",
      "metadata": {
        "id": "fH0SmpwryLZe",
        "outputId": "d81fd27d-834e-47fc-c926-131d87084ee7",
        "colab": {
          "base_uri": "https://localhost:8080/"
        }
      },
      "source": [
        "# Prints the Dataset Information\n",
        "df_cust.info()"
      ],
      "execution_count": null,
      "outputs": [
        {
          "output_type": "stream",
          "text": [
            "<class 'pandas.core.frame.DataFrame'>\n",
            "RangeIndex: 200 entries, 0 to 199\n",
            "Data columns (total 5 columns):\n",
            " #   Column                  Non-Null Count  Dtype \n",
            "---  ------                  --------------  ----- \n",
            " 0   CustomerID              200 non-null    int64 \n",
            " 1   Gender                  200 non-null    object\n",
            " 2   Age                     200 non-null    int64 \n",
            " 3   Annual Income (k$)      200 non-null    int64 \n",
            " 4   Spending Score (1-100)  200 non-null    int64 \n",
            "dtypes: int64(4), object(1)\n",
            "memory usage: 7.9+ KB\n"
          ],
          "name": "stdout"
        }
      ]
    },
    {
      "cell_type": "markdown",
      "metadata": {
        "id": "z8h-nlgq0dLe"
      },
      "source": [
        "Dari 200 data Customer, dapat dilihat untuk umur customer yang paling muda ada 18 tahun, dan yang paling tua ada customer berumur 70 tahun. Pendapatan terkecil yaitu 15dollar dan terbanyak ada 137dollar. Untuk skor pengeluaran pun ada yang terkecil yaitu 1 dan terbesar yaitu 99. Nantinya data ini akan dikelompokan menjadi beberapa kelompok seperti manakah customer dengan pemasukan banyak tetapi pengeluaran sedikit? atau manakah customer dengan pemasukan sedikit tetapi pengeluaran banyak?"
      ]
    },
    {
      "cell_type": "code",
      "metadata": {
        "id": "Ks7yVunUyQPI",
        "outputId": "87138346-28b1-4d71-a521-f3857894d5c7",
        "colab": {
          "base_uri": "https://localhost:8080/",
          "height": 167
        }
      },
      "source": [
        "# Prints Descriptive Statistics\n",
        "df_cust.describe().transpose()"
      ],
      "execution_count": null,
      "outputs": [
        {
          "output_type": "execute_result",
          "data": {
            "text/html": [
              "<div>\n",
              "<style scoped>\n",
              "    .dataframe tbody tr th:only-of-type {\n",
              "        vertical-align: middle;\n",
              "    }\n",
              "\n",
              "    .dataframe tbody tr th {\n",
              "        vertical-align: top;\n",
              "    }\n",
              "\n",
              "    .dataframe thead th {\n",
              "        text-align: right;\n",
              "    }\n",
              "</style>\n",
              "<table border=\"1\" class=\"dataframe\">\n",
              "  <thead>\n",
              "    <tr style=\"text-align: right;\">\n",
              "      <th></th>\n",
              "      <th>count</th>\n",
              "      <th>mean</th>\n",
              "      <th>std</th>\n",
              "      <th>min</th>\n",
              "      <th>25%</th>\n",
              "      <th>50%</th>\n",
              "      <th>75%</th>\n",
              "      <th>max</th>\n",
              "    </tr>\n",
              "  </thead>\n",
              "  <tbody>\n",
              "    <tr>\n",
              "      <th>CustomerID</th>\n",
              "      <td>200.0</td>\n",
              "      <td>100.50</td>\n",
              "      <td>57.879185</td>\n",
              "      <td>1.0</td>\n",
              "      <td>50.75</td>\n",
              "      <td>100.5</td>\n",
              "      <td>150.25</td>\n",
              "      <td>200.0</td>\n",
              "    </tr>\n",
              "    <tr>\n",
              "      <th>Age</th>\n",
              "      <td>200.0</td>\n",
              "      <td>38.85</td>\n",
              "      <td>13.969007</td>\n",
              "      <td>18.0</td>\n",
              "      <td>28.75</td>\n",
              "      <td>36.0</td>\n",
              "      <td>49.00</td>\n",
              "      <td>70.0</td>\n",
              "    </tr>\n",
              "    <tr>\n",
              "      <th>Annual Income (k$)</th>\n",
              "      <td>200.0</td>\n",
              "      <td>60.56</td>\n",
              "      <td>26.264721</td>\n",
              "      <td>15.0</td>\n",
              "      <td>41.50</td>\n",
              "      <td>61.5</td>\n",
              "      <td>78.00</td>\n",
              "      <td>137.0</td>\n",
              "    </tr>\n",
              "    <tr>\n",
              "      <th>Spending Score (1-100)</th>\n",
              "      <td>200.0</td>\n",
              "      <td>50.20</td>\n",
              "      <td>25.823522</td>\n",
              "      <td>1.0</td>\n",
              "      <td>34.75</td>\n",
              "      <td>50.0</td>\n",
              "      <td>73.00</td>\n",
              "      <td>99.0</td>\n",
              "    </tr>\n",
              "  </tbody>\n",
              "</table>\n",
              "</div>"
            ],
            "text/plain": [
              "                        count    mean        std  ...    50%     75%    max\n",
              "CustomerID              200.0  100.50  57.879185  ...  100.5  150.25  200.0\n",
              "Age                     200.0   38.85  13.969007  ...   36.0   49.00   70.0\n",
              "Annual Income (k$)      200.0   60.56  26.264721  ...   61.5   78.00  137.0\n",
              "Spending Score (1-100)  200.0   50.20  25.823522  ...   50.0   73.00   99.0\n",
              "\n",
              "[4 rows x 8 columns]"
            ]
          },
          "metadata": {
            "tags": []
          },
          "execution_count": 28
        }
      ]
    },
    {
      "cell_type": "markdown",
      "metadata": {
        "id": "bN-YX9KOATMl"
      },
      "source": [
        "## **SPLIT COLUMN DATA**"
      ]
    },
    {
      "cell_type": "markdown",
      "metadata": {
        "id": "M8oU6lHY1gxc"
      },
      "source": [
        "Dari dataset tersebut, untuk pemrosesan clustering sebenarnya hanya membutuhkan kolom Annual Income dan Spending Score. Maka akan dilakukan split data untuk mempermudah pemrosesan data."
      ]
    },
    {
      "cell_type": "code",
      "metadata": {
        "id": "z7QcGzm35lQI",
        "outputId": "b7373a99-1b32-47ae-b28b-d832e5fd805c",
        "colab": {
          "base_uri": "https://localhost:8080/",
          "height": 406
        }
      },
      "source": [
        "df_custp = df_cust[['Annual Income (k$)','Spending Score (1-100)']]\n",
        "df_custp"
      ],
      "execution_count": null,
      "outputs": [
        {
          "output_type": "execute_result",
          "data": {
            "text/html": [
              "<div>\n",
              "<style scoped>\n",
              "    .dataframe tbody tr th:only-of-type {\n",
              "        vertical-align: middle;\n",
              "    }\n",
              "\n",
              "    .dataframe tbody tr th {\n",
              "        vertical-align: top;\n",
              "    }\n",
              "\n",
              "    .dataframe thead th {\n",
              "        text-align: right;\n",
              "    }\n",
              "</style>\n",
              "<table border=\"1\" class=\"dataframe\">\n",
              "  <thead>\n",
              "    <tr style=\"text-align: right;\">\n",
              "      <th></th>\n",
              "      <th>Annual Income (k$)</th>\n",
              "      <th>Spending Score (1-100)</th>\n",
              "    </tr>\n",
              "  </thead>\n",
              "  <tbody>\n",
              "    <tr>\n",
              "      <th>0</th>\n",
              "      <td>15</td>\n",
              "      <td>39</td>\n",
              "    </tr>\n",
              "    <tr>\n",
              "      <th>1</th>\n",
              "      <td>15</td>\n",
              "      <td>81</td>\n",
              "    </tr>\n",
              "    <tr>\n",
              "      <th>2</th>\n",
              "      <td>16</td>\n",
              "      <td>6</td>\n",
              "    </tr>\n",
              "    <tr>\n",
              "      <th>3</th>\n",
              "      <td>16</td>\n",
              "      <td>77</td>\n",
              "    </tr>\n",
              "    <tr>\n",
              "      <th>4</th>\n",
              "      <td>17</td>\n",
              "      <td>40</td>\n",
              "    </tr>\n",
              "    <tr>\n",
              "      <th>...</th>\n",
              "      <td>...</td>\n",
              "      <td>...</td>\n",
              "    </tr>\n",
              "    <tr>\n",
              "      <th>195</th>\n",
              "      <td>120</td>\n",
              "      <td>79</td>\n",
              "    </tr>\n",
              "    <tr>\n",
              "      <th>196</th>\n",
              "      <td>126</td>\n",
              "      <td>28</td>\n",
              "    </tr>\n",
              "    <tr>\n",
              "      <th>197</th>\n",
              "      <td>126</td>\n",
              "      <td>74</td>\n",
              "    </tr>\n",
              "    <tr>\n",
              "      <th>198</th>\n",
              "      <td>137</td>\n",
              "      <td>18</td>\n",
              "    </tr>\n",
              "    <tr>\n",
              "      <th>199</th>\n",
              "      <td>137</td>\n",
              "      <td>83</td>\n",
              "    </tr>\n",
              "  </tbody>\n",
              "</table>\n",
              "<p>200 rows × 2 columns</p>\n",
              "</div>"
            ],
            "text/plain": [
              "     Annual Income (k$)  Spending Score (1-100)\n",
              "0                    15                      39\n",
              "1                    15                      81\n",
              "2                    16                       6\n",
              "3                    16                      77\n",
              "4                    17                      40\n",
              "..                  ...                     ...\n",
              "195                 120                      79\n",
              "196                 126                      28\n",
              "197                 126                      74\n",
              "198                 137                      18\n",
              "199                 137                      83\n",
              "\n",
              "[200 rows x 2 columns]"
            ]
          },
          "metadata": {
            "tags": []
          },
          "execution_count": 29
        }
      ]
    },
    {
      "cell_type": "markdown",
      "metadata": {
        "id": "92ILj4WPAhHT"
      },
      "source": [
        "## **DATA PREPROCESSING**"
      ]
    },
    {
      "cell_type": "markdown",
      "metadata": {
        "id": "DEwm8cAn4Uq2"
      },
      "source": [
        "Untuk mengelompokan data customer menggunakan 2 kolom (income dan spending) yang berupa data angka, dimana ke 2 kolom tersebut tidak memiliki skala angka yang sama maka jika langsung dilakukan clustering, model tersebut akan sia-sia atau tidak optimal. Untuk mengatasi masalah tersebut pada data preprocessing dilakukan scaling data menggunakan standardscaler agar skala angka data menjadi sama dan hasil clustering akan lebih baik."
      ]
    },
    {
      "cell_type": "code",
      "metadata": {
        "id": "CDv_4LAFyafg",
        "outputId": "3250f515-c565-457e-b954-e32c89db5422",
        "colab": {
          "base_uri": "https://localhost:8080/",
          "height": 691
        }
      },
      "source": [
        "# Set Name for StandardScaler as scaler\n",
        "scaler = StandardScaler() \n",
        "\n",
        "# Fit Standardization\n",
        "column_names = df_custp.columns.tolist()\n",
        "df_custp[column_names] = scaler.fit_transform(df_custp[column_names])\n",
        "df_custp.sort_index(inplace=True)\n",
        "df_custp"
      ],
      "execution_count": null,
      "outputs": [
        {
          "output_type": "stream",
          "text": [
            "/usr/local/lib/python3.6/dist-packages/ipykernel_launcher.py:6: SettingWithCopyWarning: \n",
            "A value is trying to be set on a copy of a slice from a DataFrame.\n",
            "Try using .loc[row_indexer,col_indexer] = value instead\n",
            "\n",
            "See the caveats in the documentation: https://pandas.pydata.org/pandas-docs/stable/user_guide/indexing.html#returning-a-view-versus-a-copy\n",
            "  \n",
            "/usr/local/lib/python3.6/dist-packages/pandas/core/frame.py:3072: SettingWithCopyWarning: \n",
            "A value is trying to be set on a copy of a slice from a DataFrame\n",
            "\n",
            "See the caveats in the documentation: https://pandas.pydata.org/pandas-docs/stable/user_guide/indexing.html#returning-a-view-versus-a-copy\n",
            "  self.iloc._setitem_with_indexer((slice(None), indexer), value)\n",
            "/usr/local/lib/python3.6/dist-packages/pandas/core/frame.py:3037: SettingWithCopyWarning: \n",
            "A value is trying to be set on a copy of a slice from a DataFrame\n",
            "\n",
            "See the caveats in the documentation: https://pandas.pydata.org/pandas-docs/stable/user_guide/indexing.html#returning-a-view-versus-a-copy\n",
            "  self._setitem_array(key, value)\n"
          ],
          "name": "stderr"
        },
        {
          "output_type": "execute_result",
          "data": {
            "text/html": [
              "<div>\n",
              "<style scoped>\n",
              "    .dataframe tbody tr th:only-of-type {\n",
              "        vertical-align: middle;\n",
              "    }\n",
              "\n",
              "    .dataframe tbody tr th {\n",
              "        vertical-align: top;\n",
              "    }\n",
              "\n",
              "    .dataframe thead th {\n",
              "        text-align: right;\n",
              "    }\n",
              "</style>\n",
              "<table border=\"1\" class=\"dataframe\">\n",
              "  <thead>\n",
              "    <tr style=\"text-align: right;\">\n",
              "      <th></th>\n",
              "      <th>Annual Income (k$)</th>\n",
              "      <th>Spending Score (1-100)</th>\n",
              "    </tr>\n",
              "  </thead>\n",
              "  <tbody>\n",
              "    <tr>\n",
              "      <th>0</th>\n",
              "      <td>-1.738999</td>\n",
              "      <td>-0.434801</td>\n",
              "    </tr>\n",
              "    <tr>\n",
              "      <th>1</th>\n",
              "      <td>-1.738999</td>\n",
              "      <td>1.195704</td>\n",
              "    </tr>\n",
              "    <tr>\n",
              "      <th>2</th>\n",
              "      <td>-1.700830</td>\n",
              "      <td>-1.715913</td>\n",
              "    </tr>\n",
              "    <tr>\n",
              "      <th>3</th>\n",
              "      <td>-1.700830</td>\n",
              "      <td>1.040418</td>\n",
              "    </tr>\n",
              "    <tr>\n",
              "      <th>4</th>\n",
              "      <td>-1.662660</td>\n",
              "      <td>-0.395980</td>\n",
              "    </tr>\n",
              "    <tr>\n",
              "      <th>...</th>\n",
              "      <td>...</td>\n",
              "      <td>...</td>\n",
              "    </tr>\n",
              "    <tr>\n",
              "      <th>195</th>\n",
              "      <td>2.268791</td>\n",
              "      <td>1.118061</td>\n",
              "    </tr>\n",
              "    <tr>\n",
              "      <th>196</th>\n",
              "      <td>2.497807</td>\n",
              "      <td>-0.861839</td>\n",
              "    </tr>\n",
              "    <tr>\n",
              "      <th>197</th>\n",
              "      <td>2.497807</td>\n",
              "      <td>0.923953</td>\n",
              "    </tr>\n",
              "    <tr>\n",
              "      <th>198</th>\n",
              "      <td>2.917671</td>\n",
              "      <td>-1.250054</td>\n",
              "    </tr>\n",
              "    <tr>\n",
              "      <th>199</th>\n",
              "      <td>2.917671</td>\n",
              "      <td>1.273347</td>\n",
              "    </tr>\n",
              "  </tbody>\n",
              "</table>\n",
              "<p>200 rows × 2 columns</p>\n",
              "</div>"
            ],
            "text/plain": [
              "     Annual Income (k$)  Spending Score (1-100)\n",
              "0             -1.738999               -0.434801\n",
              "1             -1.738999                1.195704\n",
              "2             -1.700830               -1.715913\n",
              "3             -1.700830                1.040418\n",
              "4             -1.662660               -0.395980\n",
              "..                  ...                     ...\n",
              "195            2.268791                1.118061\n",
              "196            2.497807               -0.861839\n",
              "197            2.497807                0.923953\n",
              "198            2.917671               -1.250054\n",
              "199            2.917671                1.273347\n",
              "\n",
              "[200 rows x 2 columns]"
            ]
          },
          "metadata": {
            "tags": []
          },
          "execution_count": 32
        }
      ]
    },
    {
      "cell_type": "markdown",
      "metadata": {
        "id": "xVlQmAmCAsGZ"
      },
      "source": [
        "##**DATA VISUALIZATION**"
      ]
    },
    {
      "cell_type": "markdown",
      "metadata": {
        "id": "RXL8OqGK5O3l"
      },
      "source": [
        "Untuk melihat bentuk persebaran data customer awal dilakukan visualisasi data. Visual dari data inilah yang akan dilakukan clustering menggunakan K-Means dan Hirarchical Clustering."
      ]
    },
    {
      "cell_type": "code",
      "metadata": {
        "id": "azoMTW3q1v7L",
        "outputId": "30cdc748-87f8-4c1c-e5b7-c9359a9ab049",
        "colab": {
          "base_uri": "https://localhost:8080/",
          "height": 591
        }
      },
      "source": [
        "# Styling Plot\n",
        "sns.set() \n",
        "plt.rcParams['figure.figsize'] = (16, 9)\n",
        "\n",
        "# Visualizing the Data\n",
        "sns.scatterplot(x='Annual Income (k$)', y='Spending Score (1-100)', data=df_custp)\n",
        "plt.title('Customer Segments')\n",
        "plt.xlabel('Annual Income')\n",
        "plt.ylabel('Annual Spend')"
      ],
      "execution_count": null,
      "outputs": [
        {
          "output_type": "execute_result",
          "data": {
            "text/plain": [
              "Text(0, 0.5, 'Annual Spend')"
            ]
          },
          "metadata": {
            "tags": []
          },
          "execution_count": 33
        },
        {
          "output_type": "display_data",
          "data": {
            "image/png": "[encoded data removed]",
            "text/plain": [
              "<Figure size 1152x648 with 1 Axes>"
            ]
          },
          "metadata": {
            "tags": []
          }
        }
      ]
    },
    {
      "cell_type": "markdown",
      "metadata": {
        "id": "ROBmAqgtA2xQ"
      },
      "source": [
        "##**K-MEANS CLUSTERING**"
      ]
    },
    {
      "cell_type": "markdown",
      "metadata": {
        "id": "jRxIg2jZA7HG"
      },
      "source": [
        "###**Search for the Optimum Number of Clusters (k)**"
      ]
    },
    {
      "cell_type": "markdown",
      "metadata": {
        "id": "zUCKr87R54AN"
      },
      "source": [
        "K-means Clustering adalah marupakan salahs satu algoritma unsupervised machine learning.Tujuan dari algoritma ini adalah untuk menemukan grup dalam data, dengan jumlah grup yang diwakili oleh variabel K. Variabel K sendiri adalah jumlah cluster yang diinginkan."
      ]
    },
    {
      "cell_type": "markdown",
      "metadata": {
        "id": "H5i7QCV289A4"
      },
      "source": [
        "Untuk memproses data ke dalam algoritma K-means Clustering , yaitu dimulai dengan kelompok pertama centroid yang dipilih secara acak, yang digunakan sebagai titik awal untuk setiap cluster, dan kemudian melakukan perhitungan berulang (berulang) untuk mengoptimalkan posisi centroid. Proses ini berhenti atau telah selesai dalam mengoptimalkan cluster ketika: Centroid telah stabil — tidak ada perubahan dalam nilai-nilai mereka karena pengelompokan telah berhasil dan jumlah iterasi yang ditentukan telah tercapai."
      ]
    },
    {
      "cell_type": "markdown",
      "metadata": {
        "id": "fID4RcrT9Le5"
      },
      "source": [
        "Lalu berapakah cluster / K yang akan dibuat untuk model ini dari? Untuk mengetahui berapa jumlah cluster / K terbaik untuk dataset ini bisa dilakukan dengan menggunakan Elbow Method, tetapi agar lebih akurat juga dapat diketahui menggunakan Silhoutte Method."
      ]
    },
    {
      "cell_type": "code",
      "metadata": {
        "id": "08tzPc242FlK",
        "outputId": "53e32580-1696-452f-9c88-a3f0c9a644bc",
        "colab": {
          "base_uri": "https://localhost:8080/",
          "height": 573
        }
      },
      "source": [
        "# Transform Data Frame to Numpy Array\n",
        "cust = df_custp.to_numpy()\n",
        "cust\n",
        "\n",
        "# Elbow Method\n",
        "wcss = []\n",
        "for i in range(1,11):\n",
        "    kmeans = KMeans(n_clusters=i, init='k-means++', max_iter=300, n_init=10, random_state=0)\n",
        "    kmeans.fit(cust)\n",
        "    wcss.append(kmeans.inertia_)\n",
        "  \n",
        "# Visualize \n",
        "plt.plot(range(1,11),wcss)\n",
        "plt.title('Elbow Method')\n",
        "plt.xlabel('Number of clusters')\n",
        "plt.ylabel('wcss')\n",
        "plt.show()"
      ],
      "execution_count": null,
      "outputs": [
        {
          "output_type": "display_data",
          "data": {
            "image/png": "[encoded data removed]",
            "text/plain": [
              "<Figure size 1152x648 with 1 Axes>"
            ]
          },
          "metadata": {
            "tags": []
          }
        }
      ]
    },
    {
      "cell_type": "code",
      "metadata": {
        "id": "yPdCx8Xy71C_",
        "outputId": "dd1989fe-6044-4d74-935e-4fcf1ff5e7e1",
        "colab": {
          "base_uri": "https://localhost:8080/"
        }
      },
      "source": [
        "# Silhoutte Method\n",
        "for n_cluster in range(2, 11):\n",
        "    kmeans = KMeans(n_clusters=n_cluster).fit(cust)\n",
        "    label = kmeans.labels_\n",
        "    sil_coeff = silhouette_score(cust, label, metric='euclidean')\n",
        "    print('For n_clusters={}, The Silhouette Coefficient is {}'.format(n_cluster, sil_coeff))"
      ],
      "execution_count": null,
      "outputs": [
        {
          "output_type": "stream",
          "text": [
            "For n_clusters=2, The Silhouette Coefficient is 0.2932903073400333\n",
            "For n_clusters=3, The Silhouette Coefficient is 0.46658474419000145\n",
            "For n_clusters=4, The Silhouette Coefficient is 0.49390692375131984\n",
            "For n_clusters=5, The Silhouette Coefficient is 0.5546571631111091\n",
            "For n_clusters=6, The Silhouette Coefficient is 0.5398800926790662\n",
            "For n_clusters=7, The Silhouette Coefficient is 0.5256026931619203\n",
            "For n_clusters=8, The Silhouette Coefficient is 0.4542175096183406\n",
            "For n_clusters=9, The Silhouette Coefficient is 0.45762010605218345\n",
            "For n_clusters=10, The Silhouette Coefficient is 0.45271039849336775\n"
          ],
          "name": "stdout"
        }
      ]
    },
    {
      "cell_type": "markdown",
      "metadata": {
        "id": "cK7UGzcO-Gak"
      },
      "source": [
        "Hasil penentuan jumlah cluster / K terbaik menggunakan Elbow Method dan Silhoutte Method adalah 5 (karena nilainya paling besar). Maka, model ini akan melakukan clustering dataset Mall Customer Segmentation menggunakan K-means dengan jumlah 5 cluster data."
      ]
    },
    {
      "cell_type": "markdown",
      "metadata": {
        "id": "Pw--5TxyBBk0"
      },
      "source": [
        "###**Modeling K-Means**"
      ]
    },
    {
      "cell_type": "code",
      "metadata": {
        "id": "29BQSeCl8HJc",
        "outputId": "0a690fc0-594c-4f3c-db56-f4cc981572df",
        "colab": {
          "base_uri": "https://localhost:8080/",
          "height": 573
        }
      },
      "source": [
        "# Apply the K-Means Model to the Data\n",
        "kmeans = KMeans(n_clusters=5, init='k-means++', max_iter=300, n_init=10, random_state=0)\n",
        "cluster = kmeans.fit_predict(cust)\n",
        "\n",
        "# Visualising Clusters for k=3\n",
        "sns.scatterplot(x='Annual Income (k$)', y='Spending Score (1-100)', data=df_custp)\n",
        "plt.scatter(cust[cluster == 0, 0], cust[cluster == 0, 1], s = 50, label = 'Cluster 1')\n",
        "plt.scatter(cust[cluster == 1, 0], cust[cluster == 1, 1], s = 50, label = 'Cluster 2')\n",
        "plt.scatter(cust[cluster == 2, 0], cust[cluster == 2, 1], s = 50, label = 'Cluster 3')\n",
        "plt.scatter(cust[cluster == 3, 0], cust[cluster == 3, 1], s = 50, label = 'Cluster 4')\n",
        "plt.scatter(cust[cluster == 4, 0], cust[cluster == 4, 1], s = 50, label = 'Cluster 5')\n",
        "plt.scatter(kmeans.cluster_centers_[:,0], kmeans.cluster_centers_[:,1],s=200,marker='s', alpha=0.7, label='Centroids')\n",
        "plt.title('Customer segments')\n",
        "plt.xlabel('Annual income')\n",
        "plt.ylabel('Annual spend')\n",
        "plt.legend()\n",
        "plt.show()"
      ],
      "execution_count": null,
      "outputs": [
        {
          "output_type": "display_data",
          "data": {
            "image/png": "[encoded data removed]",
            "text/plain": [
              "<Figure size 1152x648 with 1 Axes>"
            ]
          },
          "metadata": {
            "tags": []
          }
        }
      ]
    },
    {
      "cell_type": "markdown",
      "metadata": {
        "id": "tQvPpwCmA9f5"
      },
      "source": [
        "Sudah berhasil dilakukan clustering dengan 5 centroid / kelompok. Dapat dianalisa bahwa :\n",
        "\n",
        "\n",
        "*   Cluster 1 adalah customer dengan income tinggi-spending rendah\n",
        "*   Cluster 2 adalah customer dengan income rendah-spending tinggi\n",
        "*   Cluster 3 adalah customer dengan income sedang-spending sedang\n",
        "*   Cluster 4 adalah customer dengan income tinggi-spending tinggi\n",
        "*   Cluster 5 adalah customer dengan income rendah-spending rendah\n",
        "\n",
        "\n",
        "\n",
        "\n",
        "\n"
      ]
    },
    {
      "cell_type": "markdown",
      "metadata": {
        "id": "DICsBZ3dCetz"
      },
      "source": [
        "Dengan melihat data hasil clustering ini, dapat disimpulkan manakah customer dengan gaya hidup yang boros, hemat atau pengeluaran mengikuti pemasukannya. Agar lebih mudah dalam mencari mana saja customer dengan kelompok tertentu, dapat dipermudah dengan cara mencari ID/Gender/Age nya."
      ]
    },
    {
      "cell_type": "code",
      "metadata": {
        "id": "eO5gfEA48tGP",
        "outputId": "0613701e-efa5-4bd7-8f96-9cb7a2887a09",
        "colab": {
          "base_uri": "https://localhost:8080/",
          "height": 406
        }
      },
      "source": [
        "# Add Cluster Information to the Raw Data\n",
        "df_cust['cluster'] = cluster\n",
        "df_cust"
      ],
      "execution_count": null,
      "outputs": [
        {
          "output_type": "execute_result",
          "data": {
            "text/html": [
              "<div>\n",
              "<style scoped>\n",
              "    .dataframe tbody tr th:only-of-type {\n",
              "        vertical-align: middle;\n",
              "    }\n",
              "\n",
              "    .dataframe tbody tr th {\n",
              "        vertical-align: top;\n",
              "    }\n",
              "\n",
              "    .dataframe thead th {\n",
              "        text-align: right;\n",
              "    }\n",
              "</style>\n",
              "<table border=\"1\" class=\"dataframe\">\n",
              "  <thead>\n",
              "    <tr style=\"text-align: right;\">\n",
              "      <th></th>\n",
              "      <th>CustomerID</th>\n",
              "      <th>Gender</th>\n",
              "      <th>Age</th>\n",
              "      <th>Annual Income (k$)</th>\n",
              "      <th>Spending Score (1-100)</th>\n",
              "      <th>cluster</th>\n",
              "    </tr>\n",
              "  </thead>\n",
              "  <tbody>\n",
              "    <tr>\n",
              "      <th>0</th>\n",
              "      <td>1</td>\n",
              "      <td>Male</td>\n",
              "      <td>19</td>\n",
              "      <td>15</td>\n",
              "      <td>39</td>\n",
              "      <td>4</td>\n",
              "    </tr>\n",
              "    <tr>\n",
              "      <th>1</th>\n",
              "      <td>2</td>\n",
              "      <td>Male</td>\n",
              "      <td>21</td>\n",
              "      <td>15</td>\n",
              "      <td>81</td>\n",
              "      <td>1</td>\n",
              "    </tr>\n",
              "    <tr>\n",
              "      <th>2</th>\n",
              "      <td>3</td>\n",
              "      <td>Female</td>\n",
              "      <td>20</td>\n",
              "      <td>16</td>\n",
              "      <td>6</td>\n",
              "      <td>4</td>\n",
              "    </tr>\n",
              "    <tr>\n",
              "      <th>3</th>\n",
              "      <td>4</td>\n",
              "      <td>Female</td>\n",
              "      <td>23</td>\n",
              "      <td>16</td>\n",
              "      <td>77</td>\n",
              "      <td>1</td>\n",
              "    </tr>\n",
              "    <tr>\n",
              "      <th>4</th>\n",
              "      <td>5</td>\n",
              "      <td>Female</td>\n",
              "      <td>31</td>\n",
              "      <td>17</td>\n",
              "      <td>40</td>\n",
              "      <td>4</td>\n",
              "    </tr>\n",
              "    <tr>\n",
              "      <th>...</th>\n",
              "      <td>...</td>\n",
              "      <td>...</td>\n",
              "      <td>...</td>\n",
              "      <td>...</td>\n",
              "      <td>...</td>\n",
              "      <td>...</td>\n",
              "    </tr>\n",
              "    <tr>\n",
              "      <th>195</th>\n",
              "      <td>196</td>\n",
              "      <td>Female</td>\n",
              "      <td>35</td>\n",
              "      <td>120</td>\n",
              "      <td>79</td>\n",
              "      <td>3</td>\n",
              "    </tr>\n",
              "    <tr>\n",
              "      <th>196</th>\n",
              "      <td>197</td>\n",
              "      <td>Female</td>\n",
              "      <td>45</td>\n",
              "      <td>126</td>\n",
              "      <td>28</td>\n",
              "      <td>0</td>\n",
              "    </tr>\n",
              "    <tr>\n",
              "      <th>197</th>\n",
              "      <td>198</td>\n",
              "      <td>Male</td>\n",
              "      <td>32</td>\n",
              "      <td>126</td>\n",
              "      <td>74</td>\n",
              "      <td>3</td>\n",
              "    </tr>\n",
              "    <tr>\n",
              "      <th>198</th>\n",
              "      <td>199</td>\n",
              "      <td>Male</td>\n",
              "      <td>32</td>\n",
              "      <td>137</td>\n",
              "      <td>18</td>\n",
              "      <td>0</td>\n",
              "    </tr>\n",
              "    <tr>\n",
              "      <th>199</th>\n",
              "      <td>200</td>\n",
              "      <td>Male</td>\n",
              "      <td>30</td>\n",
              "      <td>137</td>\n",
              "      <td>83</td>\n",
              "      <td>3</td>\n",
              "    </tr>\n",
              "  </tbody>\n",
              "</table>\n",
              "<p>200 rows × 6 columns</p>\n",
              "</div>"
            ],
            "text/plain": [
              "     CustomerID  Gender  ...  Spending Score (1-100)  cluster\n",
              "0             1    Male  ...                      39        4\n",
              "1             2    Male  ...                      81        1\n",
              "2             3  Female  ...                       6        4\n",
              "3             4  Female  ...                      77        1\n",
              "4             5  Female  ...                      40        4\n",
              "..          ...     ...  ...                     ...      ...\n",
              "195         196  Female  ...                      79        3\n",
              "196         197  Female  ...                      28        0\n",
              "197         198    Male  ...                      74        3\n",
              "198         199    Male  ...                      18        0\n",
              "199         200    Male  ...                      83        3\n",
              "\n",
              "[200 rows x 6 columns]"
            ]
          },
          "metadata": {
            "tags": []
          },
          "execution_count": 37
        }
      ]
    },
    {
      "cell_type": "code",
      "metadata": {
        "id": "wqNmGBY38zrO"
      },
      "source": [
        "# Save= Result\n",
        "df_cust.to_csv('mall_cust_clusters.csv', index=False)"
      ],
      "execution_count": null,
      "outputs": []
    },
    {
      "cell_type": "markdown",
      "metadata": {
        "id": "sDqYfzptBJrC"
      },
      "source": [
        "##**HIERARCHICAL CLUSTERING**"
      ]
    },
    {
      "cell_type": "markdown",
      "metadata": {
        "id": "NVTmunGHFs44"
      },
      "source": [
        "Hierarchical Clustering merupakan teknik clustering yang membentuk hirarki atau berdasarkan tingkatan tertentu sehingga menyerupai struktur pohon. Maka proses pengelompokannya dilakukan secara bertingkat atau bertahap. Biasanya, metode ini digunakan pada data yang jumlahnya tidak terlalu banyak dan jumlah cluster yang akan dibentuk belum diketahui."
      ]
    },
    {
      "cell_type": "markdown",
      "metadata": {
        "id": "eRNWKn8wF4Ve"
      },
      "source": [
        "Di dalam metode hirarki, terdapat dua jenis strategi pengelompokan yaitu :\n",
        "\n",
        "\n",
        "*   Agglomerative (metode penggabungan) adalah strategi pengelompokan hirarki yang dimulai dengan setiap objek dalam satu cluster yang terpisah kemudian membentuk cluster yang semakin membesar. Jadi, banyaknya cluster awal adalah sama dengan banyaknya objek.\n",
        "*   Divisive (metode pembagian) adalah strategi pengelompokan hirarki yang dimulai dari semua objek dikelompokkan menjadi cluster tunggal kemudian dipisah sampai setiap objek berada dalam cluster yang terpisah.\n",
        "\n"
      ]
    },
    {
      "cell_type": "code",
      "metadata": {
        "id": "YxI5I4-T88yy",
        "outputId": "51c7ad89-070a-47d2-ee69-b5930f54b56b",
        "colab": {
          "base_uri": "https://localhost:8080/",
          "height": 572
        }
      },
      "source": [
        "# Modeling and Visualizing Clusters by Dendogram\n",
        "dend = sch.dendrogram(sch.linkage(cust, method='ward'))\n",
        "plt.title('Dendrogram')\n",
        "plt.xlabel('Customer')\n",
        "plt.ylabel('Euclidean')\n",
        "plt.show()"
      ],
      "execution_count": null,
      "outputs": [
        {
          "output_type": "display_data",
          "data": {
            "image/png": "[encoded data removed]",
            "text/plain": [
              "<Figure size 1152x648 with 1 Axes>"
            ]
          },
          "metadata": {
            "tags": []
          }
        }
      ]
    },
    {
      "cell_type": "markdown",
      "metadata": {
        "id": "9s8hjrVrGj6V"
      },
      "source": [
        "Dendogram diatas adalah hasil dari metode agglomerative dengan teknik complete linkage."
      ]
    },
    {
      "cell_type": "code",
      "metadata": {
        "id": "YLB1ynyP9JCV",
        "outputId": "506ee09b-7a4a-4308-b0ad-ce53f9f831cc",
        "colab": {
          "base_uri": "https://localhost:8080/",
          "height": 573
        }
      },
      "source": [
        "# Apply the Hierarchical Clustering Model to the Dataset\n",
        "hc = AgglomerativeClustering(n_clusters=5, affinity='euclidean', linkage='ward')\n",
        "hcluster = hc.fit_predict(cust)\n",
        "\n",
        "# Visualising Clusters for k=3\n",
        "sns.scatterplot(x='Annual Income (k$)', y='Spending Score (1-100)', data=df_custp)\n",
        "plt.scatter(cust[hcluster == 0, 0], cust[hcluster == 0, 1], s = 50, label = 'Cluster 1')\n",
        "plt.scatter(cust[hcluster == 1, 0], cust[hcluster == 1, 1], s = 50, label = 'Cluster 2')\n",
        "plt.scatter(cust[hcluster == 2, 0], cust[hcluster == 2, 1], s = 50, label = 'Cluster 3')\n",
        "plt.scatter(cust[hcluster == 3, 0], cust[hcluster == 3, 1], s = 50, label = 'Cluster 4')\n",
        "plt.scatter(cust[hcluster == 4, 0], cust[hcluster == 4, 1], s = 50, label = 'Cluster 5')\n",
        "plt.title('Clusters of customers')\n",
        "plt.xlabel('Annual Income')\n",
        "plt.ylabel('Annual Spend')\n",
        "plt.legend()\n",
        "plt.show()"
      ],
      "execution_count": null,
      "outputs": [
        {
          "output_type": "display_data",
          "data": {
            "image/png": "[encoded data removed]",
            "text/plain": [
              "<Figure size 1152x648 with 1 Axes>"
            ]
          },
          "metadata": {
            "tags": []
          }
        }
      ]
    },
    {
      "cell_type": "markdown",
      "metadata": {
        "id": "sQt4mQoqGx1c"
      },
      "source": [
        "Algoritma ini juga mengcluster data menjadi 5 cluster, jika dibandingkan, hasilnya cukup sedikit berbeda terutama terlihat jelas pada cluster ke 3 jika menggunakan K-means data tersebut ada yang masuk ke dalam cluster 1."
      ]
    }
  ]
}